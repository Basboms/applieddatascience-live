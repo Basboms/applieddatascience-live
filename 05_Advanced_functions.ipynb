{
 "cells": [
  {
   "cell_type": "markdown",
   "metadata": {},
   "source": [
    "# Scope"
   ]
  },
  {
   "cell_type": "code",
   "execution_count": null,
   "metadata": {},
   "outputs": [],
   "source": [
    "x = 42 # x is defined in the GLOBAL scope of the program.\n",
    "print(x)\n",
    "\n",
    "def my_func():\n",
    "    x = 'hello' # x is defined in the LOCAL scope of the function.\n",
    "    print(x)\n",
    "\n",
    "my_func()\n",
    "\n",
    "print(x)"
   ]
  },
  {
   "cell_type": "code",
   "execution_count": 2,
   "metadata": {},
   "outputs": [
    {
     "name": "stdout",
     "output_type": "stream",
     "text": [
      "wrong\n",
      "wrong\n"
     ]
    },
    {
     "data": {
      "text/plain": [
       "27"
      ]
     },
     "execution_count": 2,
     "metadata": {},
     "output_type": "execute_result"
    }
   ],
   "source": [
    "# Built-in scope\n",
    "\n",
    "numbers = [6, 3, 4, 2, 5, 7]\n",
    "print(sum(numbers))\n",
    "\n",
    "def sum(numbers):\n",
    "    return 'wrong'\n",
    "\n",
    "print(sum(numbers))\n",
    "\n",
    "#__builtin__.sum(numbers) # Don't worry!"
   ]
  },
  {
   "cell_type": "markdown",
   "metadata": {},
   "source": [
    "## The _global_ keyword\n",
    "Don't use it."
   ]
  },
  {
   "cell_type": "code",
   "execution_count": 12,
   "metadata": {},
   "outputs": [],
   "source": [
    "i = 0"
   ]
  },
  {
   "cell_type": "code",
   "execution_count": 51,
   "metadata": {},
   "outputs": [
    {
     "name": "stdout",
     "output_type": "stream",
     "text": [
      "31\n"
     ]
    }
   ],
   "source": [
    "# Bad! Functions with side-effects are considered bad practice.\n",
    "def update():\n",
    "    global i\n",
    "    i += 1\n",
    "\n",
    "update()\n",
    "print(i)"
   ]
  },
  {
   "cell_type": "code",
   "execution_count": 54,
   "metadata": {},
   "outputs": [
    {
     "name": "stdout",
     "output_type": "stream",
     "text": [
      "34\n"
     ]
    }
   ],
   "source": [
    "# Good! We are explicitly accessing and modifying \"i\".\n",
    "def update(i):\n",
    "    return i + 1\n",
    "\n",
    "i = update(i)\n",
    "print(i)"
   ]
  },
  {
   "cell_type": "markdown",
   "metadata": {},
   "source": [
    "### _Explicit is better than implicit._\n",
    "#### _Although practicality beats purity._\n",
    "[The Zen of Python](http://www.thezenofpython.com/)"
   ]
  },
  {
   "cell_type": "markdown",
   "metadata": {},
   "source": [
    "# Nested functions\n",
    "Most useful when we want to _hide_ a function."
   ]
  },
  {
   "cell_type": "code",
   "execution_count": 69,
   "metadata": {},
   "outputs": [
    {
     "data": {
      "text/plain": [
       "[0, 4, 1, 10, 2, 16, 3, 22, 4, 28, 5, 34, 6, 40, 7, 46, 8, 52, 9, 58]"
      ]
     },
     "execution_count": 69,
     "metadata": {},
     "output_type": "execute_result"
    }
   ],
   "source": [
    "def scramble(numbers):\n",
    "    def update(n):\n",
    "        if n % 2: # Is odd?\n",
    "            return n * 3 + 1\n",
    "        else:\n",
    "            return n // 2 # Integer division.\n",
    "    \n",
    "    result = [] # Or list comprehension, I know.\n",
    "    for n in numbers:\n",
    "        result.append(update(n))\n",
    "    \n",
    "    return result\n",
    "\n",
    "scramble(range(20))"
   ]
  },
  {
   "cell_type": "markdown",
   "metadata": {},
   "source": [
    "# Default and flexible arguments\n",
    "Remember the example from Week 3? =)\n",
    "\n",
    "Default arguments are a very goood idea: the function is easier to use, but still can be tweaked."
   ]
  },
  {
   "cell_type": "code",
   "execution_count": 58,
   "metadata": {},
   "outputs": [
    {
     "name": "stdout",
     "output_type": "stream",
     "text": [
      "eggs!\n",
      "eggs!\n",
      "eggs!\n"
     ]
    }
   ],
   "source": [
    "# Specifying default values of some parameters.\n",
    "def breakfast(menu, which=0, how_many=1):\n",
    "    # Order the breakfast\n",
    "    for i in range(how_many):\n",
    "        print(menu[which] + '!')\n",
    "\n",
    "menu = ['spam', 'eggs', 'ice cream']\n",
    "\n",
    "breakfast(menu)\n",
    "#breakfast(menu, which=1, how_many=3)"
   ]
  },
  {
   "cell_type": "code",
   "execution_count": 73,
   "metadata": {},
   "outputs": [
    {
     "name": "stdout",
     "output_type": "stream",
     "text": [
      "spam!\n"
     ]
    }
   ],
   "source": [
    "def breakfast(*menu, which=0, how_many=1): # This creates a tuple!\n",
    "    #print(type(menu))\n",
    "           \n",
    "    # Order the breakfast\n",
    "    for i in range(how_many):\n",
    "        print(menu[which] + '!')\n",
    "\n",
    "breakfast('spam', 'eggs', 'ice cream')"
   ]
  },
  {
   "cell_type": "markdown",
   "metadata": {},
   "source": [
    "A ** before the parameter name creates a dictionary instead."
   ]
  },
  {
   "cell_type": "markdown",
   "metadata": {},
   "source": [
    "# Error and exception handling"
   ]
  },
  {
   "cell_type": "code",
   "execution_count": 91,
   "metadata": {},
   "outputs": [
    {
     "name": "stdout",
     "output_type": "stream",
     "text": [
      "Oops, something went wrong!\n"
     ]
    }
   ],
   "source": [
    "def breakfast(menu, which=0, how_many=1):\n",
    "    # Argument check.\n",
    "#    if which < 0 or which >= len(menu):\n",
    "#        raise ValueError('Make sure you select a dish from the menu.')\n",
    "#    if how_many == 0:\n",
    "#        raise ValueError('You can\\'t stay in this restaurant without ordering!')\n",
    "#    elif how_many < 0:\n",
    "#        raise ValueError('You can\\'t order a negative number!')\n",
    "    \n",
    "    # Order the breakfast\n",
    "    try:\n",
    "        for i in range(how_many):\n",
    "            print(menu[which] + '!')\n",
    "    except:\n",
    "        print('Oops, something went wrong!')\n",
    "        \n",
    "menu = ['spam', 1, 'ice cream']\n",
    "\n",
    "breakfast(menu, which=10)"
   ]
  },
  {
   "cell_type": "markdown",
   "metadata": {},
   "source": [
    "# Lambda functions\n",
    "Normally used to create _disposable_ one-liner functions without name. We define and call them one go."
   ]
  },
  {
   "cell_type": "code",
   "execution_count": 114,
   "metadata": {},
   "outputs": [
    {
     "data": {
      "text/plain": [
       "[0, 1, 4, 9, 16, 25, 36, 49, 64, 81]"
      ]
     },
     "execution_count": 114,
     "metadata": {},
     "output_type": "execute_result"
    }
   ],
   "source": [
    "[x**2 for x in range(10)]"
   ]
  }
 ],
 "metadata": {
  "kernelspec": {
   "display_name": "Python 3",
   "language": "python",
   "name": "python3"
  },
  "language_info": {
   "codemirror_mode": {
    "name": "ipython",
    "version": 3
   },
   "file_extension": ".py",
   "mimetype": "text/x-python",
   "name": "python",
   "nbconvert_exporter": "python",
   "pygments_lexer": "ipython3",
   "version": "3.6.10"
  }
 },
 "nbformat": 4,
 "nbformat_minor": 4
}
